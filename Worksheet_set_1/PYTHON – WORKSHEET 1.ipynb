{
 "cells": [
  {
   "cell_type": "markdown",
   "id": "14f9214a",
   "metadata": {},
   "source": [
    "                                    PYTHON – WORKSHEET 1"
   ]
  },
  {
   "cell_type": "markdown",
   "id": "95dca415",
   "metadata": {},
   "source": [
    "11. Write a python program to find the factorial of a number"
   ]
  },
  {
   "cell_type": "code",
   "execution_count": 4,
   "id": "3b59f977",
   "metadata": {},
   "outputs": [
    {
     "name": "stdout",
     "output_type": "stream",
     "text": [
      "Please enter a int number: 4\n",
      "The factorial of entered no 4 is 24\n"
     ]
    }
   ],
   "source": [
    "num = int(input(\"Please enter a int number: \"))\n",
    "\n",
    "fact = 1\n",
    "#give the corresponfing result according to input\n",
    "if num < 0:\n",
    "   print(\"Sorry, factorial does not exist for negative numbers\")\n",
    "elif num == 0:\n",
    "   print(\"The factorial of 0 is 1\")\n",
    "else:\n",
    "   for i in range(1,num + 1):\n",
    "       fact = fact*i\n",
    "   print(\"The factorial of entered no\",num,\"is\",fact)"
   ]
  },
  {
   "cell_type": "markdown",
   "id": "e3c8723d",
   "metadata": {},
   "source": [
    "  "
   ]
  },
  {
   "cell_type": "markdown",
   "id": "f6c4dc4b",
   "metadata": {},
   "source": [
    "12. Write a python program to find whether a number is prime or composite"
   ]
  },
  {
   "cell_type": "code",
   "execution_count": 73,
   "id": "ee0ecf2d",
   "metadata": {},
   "outputs": [
    {
     "name": "stdout",
     "output_type": "stream",
     "text": [
      "Please enter a number: 7\n",
      "7 is a prime number\n"
     ]
    }
   ],
   "source": [
    "\n",
    "num = int(input(\"Please enter a number: \"))\n",
    "# If given number is greater than 1\n",
    "if num > 1:\n",
    "    # Iterate from 2 to n / 2\n",
    "    for i in range(2, int(num/2)+1):\n",
    "        # If a number n is divisible by any number between  2 and n/2, it is not prime number  \n",
    "        \n",
    "        if (num % i) == 0:\n",
    "            \n",
    "            print(num, \"is a composite number\")\n",
    "            break\n",
    "    else:\n",
    "        print(num, \"is a prime number\")\n",
    "else:\n",
    "    print(num, \"is not a prime number nor composite\")"
   ]
  },
  {
   "cell_type": "markdown",
   "id": "4a5a9391",
   "metadata": {},
   "source": [
    "    "
   ]
  },
  {
   "cell_type": "markdown",
   "id": "b4de9864",
   "metadata": {},
   "source": [
    "13.function to check string is palindrome or not"
   ]
  },
  {
   "cell_type": "code",
   "execution_count": 100,
   "id": "16ae0334",
   "metadata": {},
   "outputs": [
    {
     "name": "stdout",
     "output_type": "stream",
     "text": [
      "Please enter a string: malayalam\n",
      "Yes,it is a palindrome\n"
     ]
    }
   ],
   "source": [
    "\n",
    "def isPalindrome(str):\n",
    " \n",
    "    # Run loop from 0 to len/2\n",
    "    for i in range(0, int(len(str)/2)):\n",
    "        if str[i] != str[len(str)-i-1]:\n",
    "            return False\n",
    "    return True\n",
    " \n",
    "# main function\n",
    "s =(input(\"Please enter a string: \"))\n",
    "ans = isPalindrome(s)\n",
    "\n",
    "if (ans):\n",
    "    print(\"Yes,it is a palindrome\")\n",
    "else:\n",
    "    print(\"No,it is not a palindrome\")"
   ]
  },
  {
   "cell_type": "markdown",
   "id": "6cd3459d",
   "metadata": {},
   "source": [
    " "
   ]
  },
  {
   "cell_type": "markdown",
   "id": "e9214e22",
   "metadata": {},
   "source": [
    "14. Write a Python program to get the third side of right-angled triangle from two given sides."
   ]
  },
  {
   "cell_type": "code",
   "execution_count": 114,
   "id": "f0bb3d17",
   "metadata": {},
   "outputs": [
    {
     "name": "stdout",
     "output_type": "stream",
     "text": [
      "Hypotenuse = 25.0\n",
      "Adjacent   = 24.0\n",
      "Opposite   = 7.0\n"
     ]
    }
   ],
   "source": [
    "#Python program to get the third side of right-angled triangle from two given sides.\n",
    "\n",
    "def pythagoras(opp_side,adj_side,hyp):\n",
    "        \n",
    "        if opp_side == str(\"missing\"):\n",
    "            return (\"Opposite   = \"+ str(((hyp**2) - (adj_side**2))**0.5))\n",
    "        \n",
    "        elif adj_side == str(\"missing\"):\n",
    "            return (\"Adjacent   = \"+str(((hyp**2) - (opp_side**2))**0.5))\n",
    "        \n",
    "        elif hyp == str(\"missing\"):\n",
    "            return (\"Hypotenuse = \"+str(((opp_side**2) + (adj_side**2))**0.5))\n",
    "        \n",
    "        else:\n",
    "            return \"all sides are available\"\n",
    "    \n",
    "print(pythagoras(7, 24,'missing'))\n",
    "print(pythagoras(7,'missing',25))\n",
    "print(pythagoras('missing',24,25))"
   ]
  },
  {
   "cell_type": "markdown",
   "id": "ac6ba89f",
   "metadata": {},
   "source": [
    "     "
   ]
  },
  {
   "cell_type": "markdown",
   "id": "8fb1adbf",
   "metadata": {},
   "source": [
    "15. Write a python program to print the frequency of each of the characters present in a given string"
   ]
  },
  {
   "cell_type": "code",
   "execution_count": 120,
   "id": "ebef44be",
   "metadata": {},
   "outputs": [
    {
     "name": "stdout",
     "output_type": "stream",
     "text": [
      "Enter the string: performance\n",
      "p,1\n",
      "e,2\n",
      "r,2\n",
      "f,1\n",
      "o,1\n",
      "m,1\n",
      "a,1\n",
      "n,1\n",
      "c,1\n"
     ]
    }
   ],
   "source": [
    "string=input(\"Enter the string: \")\n",
    "str1=list(string)\n",
    "strlist=[]\n",
    "\n",
    "for j in str1:\n",
    "    if j not in strlist:\n",
    "       strlist.append(j)\n",
    "       count=0\n",
    "\n",
    "       for i in range(len(str1)):\n",
    "         if j==str1[i]:\n",
    "           count+=1\n",
    "       print(\"{},{}\".format(j,count))"
   ]
  }
 ],
 "metadata": {
  "kernelspec": {
   "display_name": "Python 3 (ipykernel)",
   "language": "python",
   "name": "python3"
  },
  "language_info": {
   "codemirror_mode": {
    "name": "ipython",
    "version": 3
   },
   "file_extension": ".py",
   "mimetype": "text/x-python",
   "name": "python",
   "nbconvert_exporter": "python",
   "pygments_lexer": "ipython3",
   "version": "3.9.12"
  }
 },
 "nbformat": 4,
 "nbformat_minor": 5
}
